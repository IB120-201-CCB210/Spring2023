{
 "cells": [
  {
   "cell_type": "markdown",
   "metadata": {},
   "source": [
    "# <center>CMPBIO210, IB120, IB201\n",
    "# <center>\"Introduction to Quantitative Methods in Biology\"\n",
    "# <center>Lecture 5. Analytical Solutions of Differential Equations\n",
    "## <center>Denis Titov"
   ]
  },
  {
   "cell_type": "markdown",
   "metadata": {},
   "source": [
    "**The goal of this jupyter notebook is to introduce you to analytical methods of solving differential equations using SymPy dsolve() and introduce SymPy library in general**"
   ]
  },
  {
   "cell_type": "code",
   "execution_count": null,
   "metadata": {},
   "outputs": [],
   "source": [
    "import numpy as np\n",
    "import sympy as sym\n",
    "import matplotlib.pyplot as plt\n",
    "from scipy.integrate import solve_ivp"
   ]
  },
  {
   "cell_type": "markdown",
   "metadata": {},
   "source": [
    "## Introduction to SymPy\n",
    "\n",
    "SymPy is a python library for symbolic math calculations.  \n",
    "We will be mostly concerned with using SymPy to analytically solve differential equations but SymPy has many other capabilities that we'll briefly review in the beginning.\n",
    "\n"
   ]
  },
  {
   "cell_type": "markdown",
   "metadata": {},
   "source": [
    "The core idea behind SymPy is that it allows you to do symbolic calculation using symbols instead of numbers"
   ]
  },
  {
   "cell_type": "code",
   "execution_count": null,
   "metadata": {},
   "outputs": [],
   "source": [
    "x, y = sym.symbols(\"x y\")"
   ]
  },
  {
   "cell_type": "code",
   "execution_count": null,
   "metadata": {},
   "outputs": [],
   "source": [
    "5*x-4*x"
   ]
  },
  {
   "cell_type": "markdown",
   "metadata": {},
   "source": [
    "Why should we care about doing symbolic math on a computer when numerical calculations are so easy?  \n",
    "There're at least two agruments in support of symbolic math calculations:  \n",
    "- Equations can be dramatically simplified using symbolic math so that it's easier to do numerical calculations \n",
    "- Numerical calculations have errors introduced by approximation of numerical methods and by inability of computers to represent rational numbers precisely  \n"
   ]
  },
  {
   "cell_type": "markdown",
   "metadata": {},
   "source": [
    "### Representation of numbers by a computer"
   ]
  },
  {
   "cell_type": "markdown",
   "metadata": {},
   "source": [
    "The number of numbers between 0 and 1 is $\\infty$ while computers have finite memory so can only represent finite numbers.  \n",
    "This can lead to errors in numerical calculations that you should be familiar with.  \n",
    "This is not specific to python but rather a general \"feature\" of computers.  \n",
    "You can read more about representation of floating point number by a computer here: https://docs.python.org/3/tutorial/floatingpoint.html  \n",
    "For example, the value below should be True but..."
   ]
  },
  {
   "cell_type": "code",
   "execution_count": null,
   "metadata": {},
   "outputs": [],
   "source": [
    "0.1 + 0.1 + 0.1 == .3"
   ]
  },
  {
   "cell_type": "markdown",
   "metadata": {},
   "source": [
    "The example below should be equal to zero but..."
   ]
  },
  {
   "cell_type": "code",
   "execution_count": null,
   "metadata": {},
   "outputs": [],
   "source": [
    "(0.1+0.1+0.1+0.1+0.1+0.1+0.1+0.1+0.1+0.1-1)*1e20"
   ]
  },
  {
   "cell_type": "markdown",
   "metadata": {},
   "source": [
    "If we look more closely, 0.1 is not exactly 0.1 "
   ]
  },
  {
   "cell_type": "code",
   "execution_count": null,
   "metadata": {},
   "outputs": [],
   "source": [
    "0.1"
   ]
  },
  {
   "cell_type": "code",
   "execution_count": null,
   "metadata": {},
   "outputs": [],
   "source": [
    "format(0.1, '.20')"
   ]
  },
  {
   "cell_type": "markdown",
   "metadata": {},
   "source": [
    "This is because computers represent float64 numbers as binary fractions with relative precision of $2^{-52} \\approx 2.22 \\cdot 10^{-16}$.  \n",
    "This is called IEEE 754 standard for representing floating-point numbers.  \n",
    "Computers represent numbers as a ratio of a number from $0$ to $2^{52}$ and $2^n$ where $n$ can be $-1022$ to $1023$.  \n",
    "So for 0.1 it will be $\\frac{3602879701896397}{2^{55}}=\\frac{3602879701896397}{36028797018963968}$"
   ]
  },
  {
   "cell_type": "code",
   "execution_count": null,
   "metadata": {},
   "outputs": [],
   "source": [
    "format(3602879701896397 / 36028797018963968,'.20')"
   ]
  },
  {
   "cell_type": "markdown",
   "metadata": {},
   "source": [
    "Max precision of float numbers in computers is called machine epsilon"
   ]
  },
  {
   "cell_type": "code",
   "execution_count": null,
   "metadata": {},
   "outputs": [],
   "source": [
    "np.finfo(float).eps"
   ]
  },
  {
   "cell_type": "markdown",
   "metadata": {},
   "source": [
    "SymPy and other libraries allow you to do exact calculations using ratios of numbers"
   ]
  },
  {
   "cell_type": "code",
   "execution_count": null,
   "metadata": {},
   "outputs": [],
   "source": [
    "sym.Rational(1,10)+sym.Rational(1,10)+sym.Rational(1,10)==sym.Rational(3,10)"
   ]
  },
  {
   "cell_type": "markdown",
   "metadata": {},
   "source": [
    "### Solving algebraic equations with SymPy solveset() and nonlinsolve()"
   ]
  },
  {
   "cell_type": "markdown",
   "metadata": {},
   "source": [
    "solveset() can be used to analytically solve a large variety of algebraic equations and systems of equations"
   ]
  },
  {
   "cell_type": "code",
   "execution_count": null,
   "metadata": {},
   "outputs": [],
   "source": [
    "x,y = sym.symbols(\"x y\")\n",
    "sym.solveset(x**2+x-3*y,y)"
   ]
  },
  {
   "cell_type": "markdown",
   "metadata": {},
   "source": [
    "nonlinsolve() can be used to analytically solve systems of nonlinear equations"
   ]
  },
  {
   "cell_type": "code",
   "execution_count": null,
   "metadata": {},
   "outputs": [],
   "source": [
    "x,y,a,b = sym.symbols(\"x y a b\")\n",
    "sym.nonlinsolve(\n",
    "    [-x+a*y+(x**2)*y, b-a*y-(x**2)*y],\n",
    "    [x,y]\n",
    ")"
   ]
  },
  {
   "cell_type": "markdown",
   "metadata": {},
   "source": [
    "### Simplifying equation with SymPy simplify()"
   ]
  },
  {
   "cell_type": "markdown",
   "metadata": {},
   "source": [
    "simplify() and related function can be used to simplify various equations, which SymPy doesn't do by default.  \n",
    "It is often useful to define if a particular variable or function is expected to be a real number, positive number, integer etc to allow more appropriate simplifications"
   ]
  },
  {
   "cell_type": "code",
   "execution_count": null,
   "metadata": {},
   "outputs": [],
   "source": [
    "sym.cos(x) ** 2 + sym.sin(x) ** 2"
   ]
  },
  {
   "cell_type": "code",
   "execution_count": null,
   "metadata": {},
   "outputs": [],
   "source": [
    "sym.simplify(sym.cos(x) ** 2 + sym.sin(x) ** 2)"
   ]
  },
  {
   "cell_type": "markdown",
   "metadata": {},
   "source": [
    "### Calculating differentials with SymPy diff"
   ]
  },
  {
   "cell_type": "code",
   "execution_count": null,
   "metadata": {},
   "outputs": [],
   "source": [
    "x = sym.symbols(\"x\")\n",
    "sym.diff(x**2 + 3 - sym.cos(x),x)"
   ]
  },
  {
   "cell_type": "markdown",
   "metadata": {},
   "source": [
    "Remember that $\\frac{dy(t)}{dt}=\\lim_{\\Delta t \\to 0} \\frac{y(t+\\Delta t)-y(t)}{\\Delta t}$ so we can also calculate differential using SymPy limit() function:"
   ]
  },
  {
   "cell_type": "code",
   "execution_count": null,
   "metadata": {},
   "outputs": [],
   "source": [
    "x, Δt = sym.symbols(\"x Δt\")\n",
    "sym.limit(\n",
    "    (((x + Δt)**2 + 3 - sym.cos(x + Δt)) - (x**2 + 3 - sym.cos(x)))/Δt,\n",
    "    Δt,\n",
    "    0\n",
    ")"
   ]
  },
  {
   "cell_type": "markdown",
   "metadata": {},
   "source": [
    "### Calculating integrals with SymPy integrate()"
   ]
  },
  {
   "cell_type": "code",
   "execution_count": null,
   "metadata": {},
   "outputs": [],
   "source": [
    "x = sym.symbols(\"x\")\n",
    "sym.integrate(2*x + sym.sin(x))"
   ]
  },
  {
   "cell_type": "markdown",
   "metadata": {},
   "source": [
    "### SymPy equations can be numerically evaluated using subs() and evalf()"
   ]
  },
  {
   "cell_type": "code",
   "execution_count": null,
   "metadata": {},
   "outputs": [],
   "source": [
    "x, y, z = sym.symbols(\"x, y, z\")\n",
    "expr = x ** 2 + y ** 2\n",
    "expr"
   ]
  },
  {
   "cell_type": "markdown",
   "metadata": {},
   "source": [
    "subs() can be used to substitute variable with numbers or with other variables"
   ]
  },
  {
   "cell_type": "code",
   "execution_count": null,
   "metadata": {},
   "outputs": [],
   "source": [
    "expr.subs({x: sym.pi, y: z ** 2})"
   ]
  },
  {
   "cell_type": "code",
   "execution_count": null,
   "metadata": {},
   "outputs": [],
   "source": [
    "expr.subs({x: sym.pi, y: 1})"
   ]
  },
  {
   "cell_type": "markdown",
   "metadata": {},
   "source": [
    "evalf() can be used to numerically evaluate the equation with desired numerical precision"
   ]
  },
  {
   "cell_type": "code",
   "execution_count": null,
   "metadata": {},
   "outputs": [],
   "source": [
    "expr.subs({x: sym.pi, y: 1}).evalf(10)"
   ]
  },
  {
   "cell_type": "markdown",
   "metadata": {},
   "source": [
    "## Analytically solving ODEs with SymPy dsolve()"
   ]
  },
  {
   "cell_type": "markdown",
   "metadata": {},
   "source": [
    "**Lets use our favorite bacterial growth rate in rich media as an example:**\n",
    "  \n",
    "## $\\frac{dN(t)}{dt}=kN(t)$  \n",
    "\n",
    "where $t$ is time, k is some constant specific for this E.coli strain and growth conditions, $N(t)$ is number of E. coli at time $t$.  "
   ]
  },
  {
   "cell_type": "code",
   "execution_count": null,
   "metadata": {},
   "outputs": [],
   "source": [
    "N = sym.symbols(\"N\", cls=sym.Function)\n",
    "t, k, N0 = sym.symbols(\"t, k, N0\")\n",
    "\n",
    "Growth_solution = sym.dsolve(sym.diff(N(t), t) - k * N(t), N(t), ics={N(0): N0})\n",
    "Growth_solution"
   ]
  },
  {
   "cell_type": "markdown",
   "metadata": {},
   "source": [
    "We can plot the solution using SymPy built-in plotting function.  \n",
    "SymPy built-in plot function doesn't require us to make an array of $t$ like matplotlib so might be more convenient."
   ]
  },
  {
   "cell_type": "code",
   "execution_count": null,
   "metadata": {},
   "outputs": [],
   "source": [
    "sym.plot(\n",
    "    Growth_solution.rhs.subs({N0: 1, k: sym.ln(2)}),\n",
    "    Growth_solution.rhs.subs({N0: 2, k: sym.ln(2)}),\n",
    "    Growth_solution.rhs.subs({N0: 4, k: sym.ln(2)}),\n",
    "    (t, 0, 5),\n",
    "    xlabel=\"t\",\n",
    "    ylabel=\"N(t)\",\n",
    ");"
   ]
  },
  {
   "cell_type": "markdown",
   "metadata": {},
   "source": [
    "**Lets use Drug clearance by the kidneys as another example:**\n",
    "\n",
    "## $\\frac{d[Drug](t)}{dt}=-k[Drug](t)$  \n",
    "  \n",
    "where $t$ is time,  k is some constant describing kindey filtration rate,  $[Drug](t)$ is blood concentration of drug at time $t$ and $[Drug]_0$ is is blood concentration of drug at $t=0$. "
   ]
  },
  {
   "cell_type": "code",
   "execution_count": null,
   "metadata": {},
   "outputs": [],
   "source": [
    "Drug = sym.symbols(\"[Drug]\", cls=sym.Function)\n",
    "t, k, Drug_0 = sym.symbols(\"t, k, [Drug]_0\")\n",
    "Drug_clearance_solution = sym.dsolve(sym.diff(Drug(t), t) + k * Drug(t), Drug(t), ics={Drug(0): Drug_0})\n",
    "Drug_clearance_solution"
   ]
  },
  {
   "cell_type": "code",
   "execution_count": null,
   "metadata": {},
   "outputs": [],
   "source": [
    "sym.plot(\n",
    "    Drug_clearance_solution.rhs.subs({Drug_0: 10, k: sym.ln(2)}),\n",
    "    Drug_clearance_solution.rhs.subs({Drug_0: 30, k: sym.ln(2)}),\n",
    "    Drug_clearance_solution.rhs.subs({Drug_0: 100, k: sym.ln(2)}),\n",
    "    (t, 0, 5),\n",
    "    xlabel=\"t\",\n",
    "    ylabel=\"[Drug](t)\"\n",
    ");"
   ]
  },
  {
   "cell_type": "markdown",
   "metadata": {},
   "source": [
    "You can use this approach to calculate $[S](t)$ for any substrate as long as you know the rate equation and kinetic parameters that describe that enzyme."
   ]
  },
  {
   "cell_type": "markdown",
   "metadata": {},
   "source": [
    "**Lets solve logistic equation for population growth in the presence of limited resources as an example:**\n",
    "  \n",
    "## $\\frac{dN(t)}{dt}=kN(t) \\cdot (1-\\frac{N(t)}{N_{max}})$  \n",
    "\n",
    "where $t$ is time, k is some constant specific for this population growth, $N(t)$ is population at time $t$, $N_{max}$ is maximal population size that can be achieved under these conditions."
   ]
  },
  {
   "cell_type": "code",
   "execution_count": null,
   "metadata": {},
   "outputs": [],
   "source": [
    "N = sym.symbols(\"N\", cls=sym.Function)\n",
    "t, k, N0, N_max = sym.symbols(\"t, k, N0, N_max\")\n",
    "Logistic_growth_solution = sym.dsolve(sym.diff(N(t), t) - k * N(t) * (1 - N(t) / N_max), \n",
    "                                      N(t), \n",
    "                                      ics={N(0): N0})\n",
    "Logistic_growth_solution.simplify()"
   ]
  },
  {
   "cell_type": "code",
   "execution_count": null,
   "metadata": {},
   "outputs": [],
   "source": [
    "sym.plot(\n",
    "    Logistic_growth_solution.rhs.subs({N0: 3, N_max: 100, k: sym.ln(2)}),\n",
    "    Logistic_growth_solution.rhs.subs({N0: 30, N_max: 100, k: sym.ln(2)}),\n",
    "    Logistic_growth_solution.rhs.subs({N0: 130, N_max: 100, k: sym.ln(2)}),\n",
    "    (t, 0, 15),\n",
    "    xlabel=\"t\",\n",
    "    ylabel=\"N(t)\",\n",
    "    axis_center=(0,0),\n",
    "    ylim=(0,150),\n",
    ");"
   ]
  },
  {
   "cell_type": "markdown",
   "metadata": {},
   "source": [
    "**Lets calculate substrate disappearance in the presense of Michaelis-Menten enzyme:**\n",
    "\n",
    "## $\\frac{d[S](t)}{dt}=-\\frac {V_{max} \\cdot \\frac{[S](t)}{K_m}}{1+\\frac{[S](t)}{K_m}}$  \n",
    "  \n",
    "where $t$ is time,  $V_{max}$ is maximal enzyme rate,  $[S](t)$ is substrate concentration of drug at time $t$, $K_m$ is Michaelis-Menten constant and $[S]_0$ is substrate concentration at $t=0$. "
   ]
  },
  {
   "cell_type": "code",
   "execution_count": null,
   "metadata": {},
   "outputs": [],
   "source": [
    "S = sym.symbols(\"S\", cls=sym.Function)\n",
    "t, V_max, S_0, K_m = sym.symbols(\"t, V_max, S_0, K_m\")\n",
    "MM_enzyme_solution = sym.dsolve(sym.diff(S(t), t) + V_max * (S(t)/K_m)/(1 + S(t)/K_m),\n",
    "                                S(t),\n",
    "                                ics={S(0): S_0},\n",
    "                                #simplify=False   #try adding and removing this option to see how the result changes\n",
    "                               )\n",
    "MM_enzyme_solution.simplify()"
   ]
  },
  {
   "cell_type": "markdown",
   "metadata": {},
   "source": [
    "If you include \"simplify=False\" argument from dsolve() above then the result will be represented without using W() where W() is called LambertW function and is defined as x = W(y) when x * e^x = y"
   ]
  },
  {
   "cell_type": "code",
   "execution_count": null,
   "metadata": {},
   "outputs": [],
   "source": [
    "sym.plot(\n",
    "    MM_enzyme_solution.rhs.subs({S_0: 1, V_max: 1, K_m: 1}),\n",
    "    MM_enzyme_solution.rhs.subs({S_0: 2, V_max: 1, K_m: 1}),\n",
    "    MM_enzyme_solution.rhs.subs({S_0: 4, V_max: 1, K_m: 1}),\n",
    "    (t, 0, 5),\n",
    "    xlabel=\"t\",\n",
    "    ylabel=\"[S](t)\"\n",
    ");"
   ]
  },
  {
   "cell_type": "markdown",
   "metadata": {},
   "source": [
    "**Lets calculate [ES] concentration over time without Michaelis-Menten approximation:**  \n",
    "  \n",
    "$E + S  \\overset{k_{on}}{ \\underset{k_{off}}{\\rightleftarrows}} ES \\xrightarrow{k_{cat}} E + P$  \n",
    "  \n",
    "$\\frac{d[ES]}{dt}=k_{on}[E][S]-(k_{off}+k_{cat})[ES]$  \n",
    "  \n",
    "Michaelis and Menten (Haldane used this derivation to be precise) assumed that $\\frac{d[ES]}{dt}=0$ and used $[E]_{total}=[E]+[ES]$ to derive Michaelis-Menten equation:\n",
    "  \n",
    "$\\frac{d[P](t)}{dt}=k_{cat}[ES]=\\frac {V_{max} \\cdot \\frac{[S](t)}{K_m}}{1+\\frac{[S](t)}{K_m}}$  \n",
    "  \n",
    "where $t$ is time,  $V_{max}=k_{cat}[E]_{total}$ is maximal enzyme rate,  $[S](t)$ is substrate concentration of drug at time $t$, $K_m=\\frac{k_{off}+k_{cat}}{k_{on}}$ is Michaelis-Menten constant.  \n",
    "  \n",
    "Let's assume that $\\frac{d[ES]}{dt} \\neq 0$ and calculate $[ES](t)$ by solving the differential equation:  \n",
    "  \n",
    "$\\frac{d[ES](t)}{dt}=k_{on}[E][S]-(k_{off}+k_{cat})[ES](t)=k_{on}([E]_{total}-[ES](t))[S]-(k_{off}+k_{cat})[ES](t)$  \n",
    "  \n",
    "We will assume that $S$ is constant becasue $\\frac{d[ES](t)}{dt}$ will become $0$ before $S$ will change."
   ]
  },
  {
   "cell_type": "code",
   "execution_count": null,
   "metadata": {},
   "outputs": [],
   "source": [
    "ES = sym.symbols(\"ES\", cls=sym.Function,nonnegative=True)\n",
    "kon, koff, kcat  = sym.symbols(\"k_{on}, k_{off}, k_{cat}\",positive=True)\n",
    "Etot, S, t = sym.symbols(\"E_{total}, S, t\",nonnegative=True)\n",
    "\n",
    "C1, C2 = sym.symbols(\"C1 C2\")\n",
    "\n",
    "ES_solution = sym.dsolve(\n",
    "    sym.Eq(ES(t).diff(t), kon*(Etot - ES(t))*S - (koff + kcat)*ES(t)),\n",
    "    ES(t),\n",
    "    ics={ES(0): 0}\n",
    ")\n",
    "\n",
    "ES_solution.simplify()"
   ]
  },
  {
   "cell_type": "code",
   "execution_count": null,
   "metadata": {},
   "outputs": [],
   "source": [
    "kon_value =1**6\n",
    "koff_value =10\n",
    "kcat_value =10\n",
    "sym.plot(\n",
    "    ES_solution.rhs.subs({Etot: 1, kon:kon_value, koff:koff_value, kcat:kcat_value, S:0.1*(koff_value + kcat_value)/kon_value}),\n",
    "    (t, 0, 1),\n",
    "    xlabel=\"t\",\n",
    "    ylabel=\"[ES](t)\"\n",
    ");"
   ]
  },
  {
   "cell_type": "markdown",
   "metadata": {},
   "source": [
    "Michaelis-Menten steady state approximation seems valid.  \n",
    "Let's compare the kinetics of $[ES]$ coming to steady state with kinetics of $S$ disappearence that we determined above using the same parameters:"
   ]
  },
  {
   "cell_type": "code",
   "execution_count": null,
   "metadata": {},
   "outputs": [],
   "source": [
    "S = sym.symbols(\"S\", cls=sym.Function)\n",
    "t, V_max, S_0, K_m = sym.symbols(\"t, V_max, S_0, K_m\")\n",
    "MM_enzyme_solution = sym.dsolve(sym.diff(S(t), t) + V_max * (S(t)/K_m)/(1 + S(t)/K_m),\n",
    "                                S(t),\n",
    "                                ics={S(0): S_0},\n",
    "                                #simplify=False   #try adding and removing this option to see how the result changes\n",
    "                               )\n",
    "MM_enzyme_solution.simplify()\n",
    "\n",
    "sym.plot(\n",
    "    MM_enzyme_solution.rhs.subs({S_0: 20, V_max: 1, K_m: 2}),\n",
    "    (t, 0, 1),\n",
    "    xlabel=\"t\",\n",
    "    ylabel=\"[S](t)\",\n",
    "    axis_center=(0,0),\n",
    "    ylim=(0,20),\n",
    ");"
   ]
  },
  {
   "cell_type": "markdown",
   "metadata": {},
   "source": [
    "Our assumtion that $S$ is constant while $ES$ is coming to steady state is reasonable as at $t=0.5$ $ES$ mostly reached steady state but $S$ barely decreased from 20."
   ]
  }
 ],
 "metadata": {
  "kernelspec": {
   "display_name": "Python 3 (ipykernel)",
   "language": "python",
   "name": "python3"
  },
  "language_info": {
   "codemirror_mode": {
    "name": "ipython",
    "version": 3
   },
   "file_extension": ".py",
   "mimetype": "text/x-python",
   "name": "python",
   "nbconvert_exporter": "python",
   "pygments_lexer": "ipython3",
   "version": "3.10.6"
  }
 },
 "nbformat": 4,
 "nbformat_minor": 4
}
