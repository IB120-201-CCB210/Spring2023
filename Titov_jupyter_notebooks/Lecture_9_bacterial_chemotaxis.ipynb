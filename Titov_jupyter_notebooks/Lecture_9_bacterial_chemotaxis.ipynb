{
 "cells": [
  {
   "attachments": {},
   "cell_type": "markdown",
   "metadata": {},
   "source": [
    "# <center>CMPBIO210, IB120, IB201\n",
    "# <center>\"Introduction to Quantitative Methods in Biology\"\n",
    "# <center>Lecture 9. ODE Model of Bacterial Chemotaxis\n",
    "## <center>Denis Titov"
   ]
  },
  {
   "attachments": {},
   "cell_type": "markdown",
   "metadata": {},
   "source": [
    "**The goal of this jupyter notebook is to discuss how to formulate, solve and analyze ODE model of bacterial chemotaxis that exhibits exact adaptation**"
   ]
  },
  {
   "attachments": {},
   "cell_type": "markdown",
   "metadata": {},
   "source": [
    "Optional additional resources:  \n",
    "https://doi.org/10.1038/43199"
   ]
  },
  {
   "cell_type": "code",
   "execution_count": null,
   "metadata": {},
   "outputs": [],
   "source": [
    "import matplotlib.pyplot as plt\n",
    "import numpy as np\n",
    "import sympy as sym\n",
    "from scipy.integrate import solve_ivp"
   ]
  },
  {
   "attachments": {},
   "cell_type": "markdown",
   "metadata": {},
   "source": [
    "### Model of E. coli chemotaxis adaptation based on Barkai, Leibler. Nature 1997\n",
    "  \n",
    "Desired property of the model:\n",
    "- Acute response to addition of attractants (repellent)\n",
    "- Precise adaptation that resets the signaling network to previous activity in the presence of attractants (repellent)\n",
    "  \n",
    "Assumtions of the model:\n",
    "- Receptor R can exist in three methylation states and be bound to L or free\n",
    "- 0, 0, 0.5, 0.1, 1 and 1 fraction of $R_0$, $R_{0}L$, $R_1$, $R_{1}L$, $R_2$, $R_{2}L$ receptors are active  \n",
    "- Attractant L bind to receptor R with $k_{bind} \\cdot R \\cdot L$ and dissociates with $k_{diss} \\cdot RL$ rates  \n",
    "- R is methylated by CheR with rate $k_{meth} \\cdot CheR$ (i.e., CheR is always saturated with unmethylated R substrates). Kinetics involving receptor $k_{meth} \\cdot CheR \\cdot R$ or saturatable kinetics can also be used $\\frac{k_{meth} \\cdot CheR \\cdot R}{K^{CheR}_{M} + R}$ but the adaptation will not be exactly precise but still very good for a certain range of parameters like $CheR<<CheB$.  \n",
    "- Only active state of R is demethylated by CheB with $α_{R} \\cdot k_{demeth} \\cdot R \\cdot CheB$ rates, where $α_{R}$ is the fraction of this receptor form that is active. Saturatable kinetics can also be used $\\frac{k_{demeth} \\cdot CheB \\cdot R}{K^{CheB}_{M} + R}$.  \n",
    "  \n",
    "The model is then:  \n",
    "\n",
    "  \n",
    "$\\frac{dR_0}{dt} =  -k_{bind} \\cdot R_0 \\cdot L + k_{diss} \\cdot R_{0}L - k_{meth} \\cdot CheR + α_{R_1} \\cdot k_{demeth} \\cdot R_1 \\cdot CheB$\n",
    "\n",
    "$\\frac{dR_{0}L}{dt} = k_{bind} \\cdot R_0 \\cdot L - k_{diss} \\cdot R_{0}L - k_{meth} \\cdot CheR + α_{R_{1}L} \\cdot k_{demeth} \\cdot R_{1}L \\cdot CheB$\n",
    "\n",
    "$\\frac{dR_1}{dt} =  -k_{bind} \\cdot R_1 \\cdot L + k_{diss} \\cdot R_{1}L + k_{meth} \\cdot CheR - α_{R_1} \\cdot k_{demeth} \\cdot R_1 \\cdot CheB-$  \n",
    "$ - k_{meth} \\cdot CheR + k_{demeth} \\cdot R_2 \\cdot CheB$\n",
    "\n",
    "$\\frac{dR_{1}L}{dt} = k_{bind} \\cdot R_1 \\cdot L - k_{diss} \\cdot R_{1}L + k_{meth} \\cdot CheR - α_{R_{1}L} \\cdot k_{demeth} \\cdot R_{1}L \\cdot CheB -$  \n",
    "$- k_{meth} \\cdot CheR + k_{demeth} \\cdot R_{2}L \\cdot CheB$\n",
    "\n",
    "$\\frac{dR_2}{dt} = -k_{bind} \\cdot R_2 \\cdot L + k_{diss} \\cdot R_{2}L + k_{meth} \\cdot CheR - k_{demeth} \\cdot R_2 \\cdot CheB$\n",
    "\n",
    "$\\frac{dR_{2}L}{dt} = k_{bind} \\cdot R_2 \\cdot L - k_{diss} \\cdot R_{2}L + k_{meth} \\cdot CheR - k_{demeth} \\cdot R_{2}L \\cdot CheB$\n",
    "\n",
    "$A=  α_{R_{1}} \\cdot R_{1} + α_{R_{1}L} \\cdot R_{1}L+ R_2+dR_{2}L$  \n",
    "\n",
    "$R_{Total}=  R_{0} + R_{0}L + R_{1} + R_{1}L+ R_2+dR_{2}L$ \n",
    "  \n",
    "\n",
    "\n"
   ]
  },
  {
   "cell_type": "code",
   "execution_count": null,
   "metadata": {},
   "outputs": [],
   "source": [
    "L = 0\n",
    "k_bind = 1.0\n",
    "k_diss = 1.0\n",
    "k_meth = 1.0e-2\n",
    "k_demeth = 1.0e-2\n",
    "α_R1 = 0.5\n",
    "α_R1_L = 0.1\n",
    "CheR = 0.2\n",
    "CheB = 2\n",
    "\n",
    "\n",
    "def chemotaxis_model(t, y):\n",
    "    if t < 60*60:\n",
    "        L = 0.0\n",
    "    elif 60*60 <= t < 120*60:\n",
    "        L = 100\n",
    "    else:\n",
    "        L = 0.0\n",
    "\n",
    "    R0, R0_L, R1, R1_L, R2, R2_L, = y\n",
    "    dR0dt = -k_bind * R0 * L + k_diss * R0_L - \\\n",
    "        k_meth * CheR + α_R1 * k_demeth * R1 * CheB\n",
    "    dR0_Ldt = k_bind * R0 * L - k_diss * R0_L - \\\n",
    "        k_meth * CheR + α_R1_L * \\\n",
    "        k_demeth * R1_L * CheB\n",
    "    dR1dt = -k_bind * R1 * L + k_diss * R1_L + k_meth * CheR - α_R1 * \\\n",
    "        k_demeth * R1 * CheB - k_meth * \\\n",
    "        CheR + k_demeth * R2 * CheB\n",
    "    dR1_Ldt = k_bind * R1 * L - k_diss * R1_L + k_meth * CheR - α_R1_L * \\\n",
    "        k_demeth * R1_L * CheB - k_meth * \\\n",
    "        CheR + k_demeth * R2_L * CheB\n",
    "    dR2dt = -k_bind * R2 * L + k_diss * R2_L + \\\n",
    "        k_meth * CheR - k_demeth * R2 * CheB\n",
    "    dR2_Ldt = k_bind * R2 * L - k_diss * R2_L + \\\n",
    "        k_meth * CheR - k_demeth * R2_L * CheB\n",
    "    return [dR0dt, dR0_Ldt, dR1dt, dR1_Ldt, dR2dt, dR2_Ldt]\n",
    "\n",
    "\n",
    "initial_condition = [10.0, 0.0, 0.0, 0.0, 0.0, 0.0]\n",
    "tspan = [0, 180*60]\n",
    "soln = solve_ivp(chemotaxis_model, tspan, initial_condition, method=\"Radau\")\n",
    "\n",
    "plt.figure(figsize=(8, 5), dpi=100)\n",
    "plt.plot(soln.t / 60, α_R1 * soln.y[2] + α_R1_L *\n",
    "         soln.y[3] + soln.y[4] + soln.y[5], label=\"Active R\")\n",
    "plt.plot(soln.t / 60, soln.y[0] + soln.y[1] + soln.y[2] +\n",
    "         soln.y[3] + soln.y[4] + soln.y[5], label=\"Total R\")\n",
    "plt.plot(soln.t / 60, soln.y[0], label=\"R0\")\n",
    "plt.plot(soln.t / 60, soln.y[1], label=\"R0_L\")\n",
    "plt.plot(soln.t / 60, soln.y[2], label=\"R1\")\n",
    "plt.plot(soln.t / 60, soln.y[3], label=\"R1_L\")\n",
    "plt.plot(soln.t / 60, soln.y[4], label=\"R2\")\n",
    "plt.plot(soln.t / 60, soln.y[5], label=\"R2_L\")\n",
    "# #Line below plots the steady-state value of Active R calculated analytically as shown below\n",
    "plt.axhline(4*CheR*k_meth/(CheB*k_demeth), linestyle=\"dotted\", color=\"r\")\n",
    "plt.xlabel(\"Time, min\", fontsize=20)\n",
    "plt.ylabel(\"[Receptor], µM\", fontsize=20)\n",
    "# plt.ylim(9.9,10.1)\n",
    "plt.xticks(fontsize=15)\n",
    "plt.yticks(fontsize=15)\n",
    "plt.grid()\n",
    "plt.legend(fontsize=15);"
   ]
  },
  {
   "attachments": {},
   "cell_type": "markdown",
   "metadata": {},
   "source": [
    "The ability of the model of chemotaxis above to reset to the same exact A after adaptation is robust.  \n",
    "Try changing any parameters of the model to see that precise adaptation stays the same even though kinetics and steady-state values of *Active R* change."
   ]
  },
  {
   "attachments": {},
   "cell_type": "markdown",
   "metadata": {},
   "source": [
    "### Derive precise adaptation analytically\n",
    "\n",
    "The goal is to find fixed point and hope that $A$ is independent of $L$.  \n",
    "It turns out the easiest way to do this is to assume that methylation of receptor does not depend on receptor concentrations.  \n",
    "The latter is possible if lots of unmethylated receptors are presence so CheR is saturated with substrates and operates at maximal rate.  "
   ]
  },
  {
   "cell_type": "code",
   "execution_count": null,
   "metadata": {},
   "outputs": [],
   "source": [
    "R_total, A, R0, R0_L, R1, R1_L, R2, R2_L = sym.symbols(\n",
    "    \"R_total, A, R0, R0_L, R1, R1_L, R2, R2_L\", positive=True)\n",
    "L, k_bind, k_diss, k_meth, k_demeth, α_R1, α_R1_L, CheR, CheB = sym.symbols(\n",
    "    \"L, k_bind, k_diss, k_meth, k_demeth, α_R1, α_R1_L, CheR, CheB\", positive=True)\n",
    "\n",
    "soln = sym.nonlinsolve(\n",
    "    [-k_bind * R0 * L + k_diss * R0_L -\n",
    "        k_meth * CheR + α_R1 * k_demeth * R1 * CheB,\n",
    "        k_bind * R0 * L - k_diss * R0_L -\n",
    "        k_meth * CheR + α_R1_L *\n",
    "        k_demeth * R1_L * CheB,\n",
    "        -k_bind * R1 * L + k_diss * R1_L + k_meth * CheR - α_R1 *\n",
    "        k_demeth * R1 * CheB - k_meth *\n",
    "        CheR + k_demeth * R2 * CheB,\n",
    "        k_bind * R1 * L - k_diss * R1_L + k_meth * CheR - α_R1_L *\n",
    "        k_demeth * R1_L * CheB - k_meth *\n",
    "        CheR + k_demeth * R2_L * CheB,\n",
    "        -k_bind * R2 * L + k_diss * R2_L +\n",
    "        k_meth * CheR - k_demeth * R2 * CheB,\n",
    "        k_bind * R2 * L - k_diss * R2_L +\n",
    "        k_meth * CheR - k_demeth * R2_L * CheB,\n",
    "        A - α_R1 * R1 - α_R1_L * R1_L - R2 - R2_L,],\n",
    "    [A, R0, R0_L, R1, R1_L, R2, R2_L]\n",
    ")\n",
    "soln"
   ]
  },
  {
   "cell_type": "code",
   "execution_count": null,
   "metadata": {},
   "outputs": [],
   "source": [
    "#nonlinsolve returns answer as a set and you can get the first element, which is solution for A like this\n",
    "soln.args[0][0]"
   ]
  }
 ],
 "metadata": {
  "kernelspec": {
   "display_name": "Python 3",
   "language": "python",
   "name": "python3"
  },
  "language_info": {
   "codemirror_mode": {
    "name": "ipython",
    "version": 3
   },
   "file_extension": ".py",
   "mimetype": "text/x-python",
   "name": "python",
   "nbconvert_exporter": "python",
   "pygments_lexer": "ipython3",
   "version": "3.10.6"
  },
  "vscode": {
   "interpreter": {
    "hash": "aee8b7b246df8f9039afb4144a1f6fd8d2ca17a180786b69acc140d282b71a49"
   }
  }
 },
 "nbformat": 4,
 "nbformat_minor": 4
}
