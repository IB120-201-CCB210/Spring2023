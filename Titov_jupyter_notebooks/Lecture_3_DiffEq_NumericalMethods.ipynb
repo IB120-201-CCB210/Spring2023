{
 "cells": [
  {
   "cell_type": "markdown",
   "metadata": {},
   "source": [
    "# <center>CMPBIO210, IB120, IB201\n",
    "# <center>\"Introduction to Quantitative Methods in Biology\"\n",
    "# <center>Lecture 3. Numerical Methods of Solving ODEs\n",
    "## <center>Denis Titov"
   ]
  },
  {
   "cell_type": "markdown",
   "metadata": {},
   "source": [
    "**The goal of this jupyter notebook is to introduce you to how numerical methods for solution of ordinary differential equations (ODEs) work in general and review various option of SciPy solve_ivp() function. This is a math heavy subject but it's good to have a basic idea of how ODE solvers like solve_ivp() actually work if you plan to use them.**"
   ]
  },
  {
   "cell_type": "code",
   "execution_count": 1,
   "metadata": {},
   "outputs": [],
   "source": [
    "import sympy as sym\n",
    "import numpy as np\n",
    "import matplotlib.pyplot as plt\n",
    "from scipy.integrate import solve_ivp"
   ]
  },
  {
   "cell_type": "markdown",
   "metadata": {
    "tags": []
   },
   "source": [
    "# Example: Clearance of drugs from the blood\n",
    "\n",
    "We will use drug clearance from the blood through kidney filtration as an example in this section.\n",
    "Drug clearance from the blood can be describe using differential equation $\\frac{d[Drug](t)}{dt}=-k[Drug](t)$, where $t$ is time,  k is some constant describing kindey filtration rate,  $[Drug](t)$ is blood concentration of drug at time $t$ and $[Drug]_0$ is is blood concentration of drug at $t=0$. "
   ]
  },
  {
   "cell_type": "markdown",
   "metadata": {
    "tags": []
   },
   "source": [
    "# Numerical solution of $\\frac{d[Drug]}{dt}=-k[Drug]$"
   ]
  },
  {
   "cell_type": "markdown",
   "metadata": {
    "tags": []
   },
   "source": [
    "#### We can solve $\\frac{d[Drug](t)}{dt}=-k[Drug](t)$ numerically using solve_ivp() from SciPy library."
   ]
  },
  {
   "cell_type": "code",
   "execution_count": 3,
   "metadata": {
    "tags": []
   },
   "outputs": [
    {
     "data": {
      "image/png": "[encoded data removed]",
      "text/plain": [
       "<Figure size 432x288 with 1 Axes>"
      ]
     },
     "metadata": {
      "needs_background": "light"
     },
     "output_type": "display_data"
    }
   ],
   "source": [
    "k = 1\n",
    "Drug_0 = [1]\n",
    "tspan = [0, 5]\n",
    "\n",
    "def fun(t, y):\n",
    "    dDrug_dt = -k * y\n",
    "    return dDrug_dt\n",
    "\n",
    "soln = solve_ivp(fun, tspan, Drug_0, t_eval=np.linspace(0, 5, 1000))\n",
    "\n",
    "plt.plot(soln.t, soln.y[0], label=\"solve_ivp() solution\")\n",
    "plt.legend();"
   ]
  },
  {
   "cell_type": "markdown",
   "metadata": {},
   "source": [
    "Now, let's write code to solve $\\frac{d[Drug]}{dt}=-k[Drug]$ without using solve_ivp() function with the goal of better understanding how solve_ivp() and similar methods actually works."
   ]
  },
  {
   "cell_type": "markdown",
   "metadata": {},
   "source": [
    "### Euler method"
   ]
  },
  {
   "cell_type": "markdown",
   "metadata": {},
   "source": [
    "The basic idea behind numerical methods for solving ODEs is to simply take some small number for $\\Delta t$ and do repetitive algebraic calculation with it.  \n",
    "For example, let't take some value of $\\Delta t$ and find a solution for $\\frac{d[Drug](t)}{dt}=-k[Drug](t)$ starting from initial $[Drug]_0$  \n",
    "  \n",
    "First, we rewrite $\\frac{d[Drug](t)}{dt}=-k[Drug](t)$ as $\\frac{\\Delta[Drug]}{\\Delta t}=\\frac{[Drug]_{t+\\Delta t}-[Drug]_{t}}{\\Delta t}=-k[Drug]_{t}$.  \n",
    "  \n",
    "Next, we can use our initial condition $[Drug]_{t=0}=[Drug]_0$ to find $[Drug]_{\\Delta t}$:  \n",
    "  \n",
    "$[Drug]_{\\Delta t}=[Drug]_0-\\Delta t \\cdot k \\cdot [Drug]_0=[Drug]_0 \\cdot (1-\\Delta t \\cdot k)$  \n",
    "  \n",
    "Repeat the same to get $[Drug]_{2 \\cdot \\Delta t}$, $[Drug]_{3 \\cdot \\Delta t}$ ... etc:  \n",
    "  \n",
    "$[Drug]_{2 \\cdot \\Delta t}=[Drug]_{\\Delta t}-\\Delta t \\cdot k \\cdot [Drug]_{\\Delta t}=[Drug]_0 \\cdot (1-\\Delta t \\cdot k)^2$  \n",
    "  \n",
    "$[Drug]_{3 \\cdot \\Delta t}=[Drug]_0 \\cdot (1-\\Delta t \\cdot k)^3$... etc etc etc for as many $\\Delta t$ steps as we want.   \n",
    "  \n",
    "This is called the explicit Euler method and is the simplest method that can be used to numerically solve ODEs although it is rarely used in practice as there are more efficient methods as we will review below.  "
   ]
  },
  {
   "cell_type": "markdown",
   "metadata": {},
   "source": [
    "### Let's implement Euler method with python code."
   ]
  },
  {
   "cell_type": "markdown",
   "metadata": {},
   "source": [
    "#### For loops"
   ]
  },
  {
   "cell_type": "markdown",
   "metadata": {},
   "source": [
    "We will need to use a *for loop* to implement Euler method.  \n",
    "*For loops* are very common in computer programs and is a way to make computer do a repetitive task like Euler method.  \n",
    "Here's a simple example of a *for loop*:"
   ]
  },
  {
   "cell_type": "code",
   "execution_count": 4,
   "metadata": {},
   "outputs": [
    {
     "name": "stdout",
     "output_type": "stream",
     "text": [
      "0\n",
      "1\n",
      "2\n",
      "3\n",
      "4\n"
     ]
    }
   ],
   "source": [
    "for i in range(5):\n",
    "    print(i)"
   ]
  },
  {
   "cell_type": "markdown",
   "metadata": {},
   "source": [
    "Note that numbering in python starts at 0 as opposed to 1 and that last number (i.e. 5 above) is not included.  \n",
    "*Side note: this is a major point of contention betweem programming languages with more math/science focused languages having 1-based indexing (e.g, Fortran, Julia, Matlab, R) while other languages made a poor choice of having 0 based indexing which is in my humble opinion nonsensical! (e.g., C, Python, Java)*"
   ]
  },
  {
   "cell_type": "markdown",
   "metadata": {},
   "source": [
    "#### Euler method code"
   ]
  },
  {
   "cell_type": "code",
   "execution_count": 5,
   "metadata": {},
   "outputs": [
    {
     "data": {
      "image/png": "[encoded data removed]",
      "text/plain": [
       "<Figure size 432x288 with 1 Axes>"
      ]
     },
     "metadata": {
      "needs_background": "light"
     },
     "output_type": "display_data"
    }
   ],
   "source": [
    "dt = 0.5\n",
    "k = 1\n",
    "\n",
    "Drug = np.array([1,])\n",
    "time = np.array([0,])\n",
    "for t in range(1, round(11)):\n",
    "    Drug = np.append(Drug, Drug[t - 1] - dt * k * Drug[t - 1])\n",
    "    time = np.append(time, time[t - 1] + dt)\n",
    "\n",
    "plt.plot(time, Drug, label='Euler')\n",
    "plt.legend();"
   ]
  },
  {
   "cell_type": "markdown",
   "metadata": {
    "tags": []
   },
   "source": [
    "Note that you have to choose $\\Delta t$ carefully as $\\Delta t$>2 will produce an unstable solution because if $|1-\\Delta t \\cdot k|>1$ than numerical solution will go to $\\infty$ if number of steps goes to $\\infty$.  "
   ]
  },
  {
   "cell_type": "markdown",
   "metadata": {},
   "source": [
    "#### $\\frac{d[Drug]}{dt}=-k[Drug]$ is simple enough so that we can also solve it analytically using dsolve() function from SymPy library:"
   ]
  },
  {
   "cell_type": "code",
   "execution_count": 6,
   "metadata": {},
   "outputs": [
    {
     "data": {
      "text/latex": [
       "$\\displaystyle \\operatorname{[Drug]}{\\left(t \\right)} = [Drug]_{0} e^{- k t}$"
      ],
      "text/plain": [
       "Eq([Drug](t), [Drug]_0*exp(-k*t))"
      ]
     },
     "execution_count": 6,
     "metadata": {},
     "output_type": "execute_result"
    }
   ],
   "source": [
    "Drug = sym.symbols(\"[Drug]\", cls=sym.Function)\n",
    "t, k, Drug_0 = sym.symbols(\"t, k, [Drug]_0\")\n",
    "sym.dsolve(sym.diff(Drug(t), t) + k * Drug(t), Drug(t), ics={Drug(0): Drug_0})"
   ]
  },
  {
   "cell_type": "markdown",
   "metadata": {},
   "source": [
    "#### Let's compare Euler method with analytical solution and solve_ivp() solution"
   ]
  },
  {
   "cell_type": "code",
   "execution_count": 7,
   "metadata": {},
   "outputs": [
    {
     "data": {
      "image/png": "[encoded data removed]",
      "text/plain": [
       "<Figure size 432x288 with 1 Axes>"
      ]
     },
     "metadata": {
      "needs_background": "light"
     },
     "output_type": "display_data"
    }
   ],
   "source": [
    "dt = 0.5\n",
    "k = 1\n",
    "\n",
    "Drug = np.array([1,])\n",
    "time = np.array([0,])\n",
    "for t in range(1, round(5/dt)+1):\n",
    "    Drug = np.append(Drug, Drug[t - 1] - dt * k * Drug[t - 1])\n",
    "    time = np.append(time, time[t - 1] + dt)\n",
    "\n",
    "Drug_0 = [1]\n",
    "tspan = [0, 5]\n",
    "\n",
    "def fun(t, y):\n",
    "    dDrug_dt = -k * y\n",
    "    return dDrug_dt\n",
    "\n",
    "soln = solve_ivp(fun, tspan, Drug_0, t_eval=np.linspace(0, 5, round(5/dt)+1))\n",
    "plt.plot(time, np.exp(-k*time), label='[Drug]=exp(-t)')\n",
    "plt.plot(soln.t, soln.y[0], label=\"solve_ivp() solution\")\n",
    "plt.plot(time, Drug, label='Euler')\n",
    "plt.legend();"
   ]
  },
  {
   "cell_type": "markdown",
   "metadata": {},
   "source": [
    "Curves for solve_ivp() and analytical solution are indistinguishable above and Euler at very low $\\Delta t$ also merges with them"
   ]
  },
  {
   "cell_type": "markdown",
   "metadata": {
    "jp-MarkdownHeadingCollapsed": true,
    "tags": []
   },
   "source": [
    "### What is the advantage of inventing other numerical method if Euler works?\n",
    "There're hundreds of numerical methods that people have invented.  \n",
    "Numerical methods have to balance numerical accuracy vs computational speed.  \n",
    "Euler method will be 10x more accurate if you decrease $\\Delta t$ 10x but it will also take 10x longer for computer to calculate a solution because it'll have to take 10x more steps. Because of this tradeoff between speed and accuracy, people have spent lots of time inventing new methods that can be as accurate as Euler while taking much larger steps or much faster than Euler with the same accuracy.  More modern methods are orders of magnitude better than Euler as we'll se below."
   ]
  },
  {
   "cell_type": "markdown",
   "metadata": {},
   "source": [
    "### Source of errors in Euler and other numerical methods"
   ]
  },
  {
   "cell_type": "markdown",
   "metadata": {},
   "source": [
    "All numerical methods are approximations of the analytical solution and the error of numerical methods is the difference between numerical solution and analytical solution.  \n",
    "  \n",
    "  Let's analyze the error introduced by Euler method above and find how error depends on $\\Delta t$."
   ]
  },
  {
   "cell_type": "markdown",
   "metadata": {},
   "source": [
    "**Derivative overview**  \n",
    "In order to understand the stuff below we need to remember about derivatives and diffrentials.  \n",
    "  You've likely learned a bunch of rules of how to calculate differentials of different function like $y(t)=t^2$ or $y(t)=\\frac{1}{t^2}$.  \n",
    "  \n",
    "Let's manually calculate a differential of $y(t)=t^2$ to further demystify differentials:\n",
    "\n",
    "$\\frac{dy(t)}{dt}=\\lim_{\\Delta t \\to 0} \\frac{y(t+\\Delta t)-y(t)}{\\Delta t}$  \n",
    "  \n",
    "  $\\frac{y(t+\\Delta t)-y(t)}{\\Delta t}=\\frac{(t+\\Delta t)^2-t^2}{\\Delta t}=\\frac{t^2+2t \\cdot \\Delta t + \\Delta t^2-t^2}{\\Delta t}=2t + \\Delta t$  \n",
    "  \n",
    "  Since $\\Delta t \\to 0$, we get $\\frac{dy(t)}{dt}=2t$"
   ]
  },
  {
   "cell_type": "markdown",
   "metadata": {},
   "source": [
    "**Taylor Series overview**  \n",
    "One way to analyze the magnitude of error introduced by Euler method is by using Taylor series.  \n",
    "You likely learned about Taylor series in intro calculus: https://en.wikipedia.org/wiki/Taylor_series.   \n",
    "  \n",
    "  Taylor series is the following equation and is key for many numerical ODE methods:  \n",
    "  \n",
    "  $y(t+\\Delta t)=y(t)+\\Delta t \\frac{dy(t)}{dt} + \\frac {\\Delta t^2}{2} \\frac{d^2y(t)}{dt^2} + ... + \\frac{\\Delta t^n}{n!} \\frac{d^ny(t)}{dt^n}$  \n",
    "  \n",
    "  Taylor series is more and more accurate at higher $n$ all the way to $n \\rightarrow \\infty$\n",
    "  \n",
    "  Let's use $y(t)=t^2$ as an example:  \n",
    "  \n",
    "  $y(t+\\Delta t)=t^2+\\Delta t \\cdot 2t + \\frac {\\Delta t^2}{2} \\cdot 2 + 0 + ... + 0 =(t+\\Delta t)^2$"
   ]
  },
  {
   "cell_type": "markdown",
   "metadata": {},
   "source": [
    "**Finally lets understand source of error of Euler method using Taylor series**  \n",
    "  In our case, Taylor series will look like this:  \n",
    "  \n",
    "  $[Drug]_{t+\\Delta t}=[Drug]_{t}+\\Delta t \\frac{d[Drug]}{dt} + \\frac {\\Delta t^2}{2} \\frac{d^2[Drug]}{dt^2} + ... + \\frac{\\Delta t^n}{n!} \\frac{d^n[Drug]}{dt^n}$  \n",
    "  \n",
    "  Since we know that $\\frac{d[Drug]}{dt}=-k[Drug]$ and $k=1$:  \n",
    "  \n",
    "  $[Drug]_{t+\\Delta t}=[Drug]_{t}-\\Delta t [Drug]_{t} + \\frac {\\Delta t^2}{2} [Drug]_{t} + ... + \\frac{\\Delta t^n}{n!} (-1)^n[Drug]_{t}$  \n",
    "  \n",
    "Note that Euler method *truncates* the Taylor series at the second component so the error of Euler method is  equal to  \n",
    "(read about $O()$ notation here: https://en.wikipedia.org/wiki/Big_O_notation)  \n",
    "  \n",
    "  $O(\\Delta t^2)=\\frac {\\Delta t^2}{2} [Drug]_{t} + ... + \\frac{\\Delta t^n}{n!}(-1)^n[Drug]_{t}$  \n",
    "  \n",
    "  and the equation is often written as:  \n",
    "  \n",
    "$[Drug]_{t+\\Delta t}=[Drug]_{t}-\\Delta t [Drug]_{t} + O(\\Delta t^2)$  \n",
    "  \n",
    "  So the error per step is proportinal to $\\Delta t^2$ and assuming errors are cummulative the total error after time $t$ is proportinal to $N_{Steps} \\cdot \\Delta t^2 \\sim \\Delta t$ because $N_{Steps} \\sim \\frac{1}{\\Delta t}$.  \n",
    "  So error of Euler method at time $t$ is proportional to $\\Delta t$."
   ]
  },
  {
   "cell_type": "markdown",
   "metadata": {
    "tags": []
   },
   "source": [
    "### Taylor method"
   ]
  },
  {
   "cell_type": "markdown",
   "metadata": {},
   "source": [
    "  Let's see if we can improve Euler method if we truncate at third or fourth term of Taylor series:"
   ]
  },
  {
   "cell_type": "code",
   "execution_count": 17,
   "metadata": {},
   "outputs": [
    {
     "data": {
      "text/plain": [
       "array([1, 2])"
      ]
     },
     "execution_count": 17,
     "metadata": {},
     "output_type": "execute_result"
    }
   ],
   "source": [
    "Drug = [1]\n",
    "np.append(Drug, 2)"
   ]
  },
  {
   "cell_type": "code",
   "execution_count": 23,
   "metadata": {},
   "outputs": [
    {
     "data": {
      "image/png": "[encoded data removed]",
      "text/plain": [
       "<Figure size 432x288 with 1 Axes>"
      ]
     },
     "metadata": {
      "needs_background": "light"
     },
     "output_type": "display_data"
    }
   ],
   "source": [
    "dt = 0.3\n",
    "k = 1\n",
    "\n",
    "Drug = [1,]\n",
    "Drug2 = [1,]\n",
    "Drug3 = [1,]\n",
    "time = [0,]\n",
    "\n",
    "for t in range(1, round(5/dt)+1):\n",
    "    Drug = np.append(Drug, Drug[t - 1] - dt * k * Drug[t - 1])\n",
    "    Drug2 = np.append(\n",
    "        Drug2, \n",
    "        (Drug2[t - 1] \n",
    "         - dt * k * Drug2[t - 1] \n",
    "         + Drug2[t - 1]/2*(dt*k)**2)\n",
    "    )\n",
    "    Drug3 = np.append(\n",
    "        Drug3, \n",
    "        (Drug3[t - 1] \n",
    "         - dt * k * Drug3[t - 1] \n",
    "         + Drug3[t - 1]/2*(dt*k)**2 \n",
    "         - Drug3[t - 1]/6*(dt*k)**3)\n",
    "    )\n",
    "    time = np.append(time, time[t - 1] + dt)\n",
    "\n",
    "plt.plot(time, Drug,label='Euler')\n",
    "plt.plot(time, Drug2,label='Taylor $O(\\Delta t)^2$')\n",
    "plt.plot(time, Drug3,label='Taylor $O(\\Delta t)^3$')\n",
    "plt.plot(time, np.exp(-k*time),label='[Drug]=exp(-t)')\n",
    "plt.legend();"
   ]
  },
  {
   "cell_type": "markdown",
   "metadata": {},
   "source": [
    "This method is also rarely used in practice as it can be time consuming to compute $\\frac{d^ny(t)}{dt^n}$ for $n>1$.  \n",
    "We of course always know $\\frac{d^ny(t)}{dt^n}$ for $n=1$ because that's the right hand side of a differential equation.  \n",
    "  \n",
    "  The errors per step of Taylor methods with one or two additional Taylor series terms compared to Euler are proportinal to $\\Delta t^3$ and $\\Delta t^4$ and total error after time $t$ is proportional to $N_{Steps} \\cdot \\Delta t^3 \\sim \\Delta t^2$ and $N_{Steps} \\cdot \\Delta t^4 \\sim \\Delta t^3$ because $N_{Steps} \\sim \\frac{1}{\\Delta t}$.  \n",
    "  \n",
    "  Error of Taylor methods with one or two additional Taylor series terms at time $t$ is proportional to $\\Delta t^2$ and $\\Delta t^3$, respectively.  \n",
    "  \n",
    "  For example, for $\\Delta t=0.1$ Taylor methods will be 10x and 100x more accurate!"
   ]
  },
  {
   "cell_type": "markdown",
   "metadata": {},
   "source": [
    "### Runge-Kutta method"
   ]
  },
  {
   "cell_type": "markdown",
   "metadata": {},
   "source": [
    "Finally, here we'll implement numerical ODE solver method that is actually used in practice.  \n",
    "Learn more about Runge-Kutta methods if interested: https://en.wikipedia.org/wiki/Runge–Kutta_methods  \n",
    "The above link also has a slightly different method to derive Runge-Kutta methods using geometry and tangent lines.  \n",
    "\n",
    "**The basic idea behind Runge-Kutta methods is to use a trick so that we can use Taylor method without calculating $\\frac{d^ny(t)}{dt^n}$**  \n",
    "  \n",
    "  Let's assume we have ODE $\\frac{y(t)}{dt}=f(t,y(t))$.  \n",
    "  \n",
    "  Taylor series for $y(t+\\Delta t)$:  \n",
    "  $y(t+\\Delta t)=y(t)+\\Delta t \\frac{dy(t)}{dt} + \\frac {\\Delta t^2}{2} \\frac{d^2y(t)}{dt^2} + ... + \\frac{\\Delta t^n}{n!} \\frac{d^ny(t)}{dt^n}$  \n",
    "  \n",
    "Since we know that $\\frac{y(t)}{dt}=f(t,y(t))$, the Taylor series becomes:  \n",
    "  \n",
    "$y(t+\\Delta t)=y(t)+\\Delta t \\cdot f(t,y(t)) + \\frac {\\Delta t^2}{2} \\frac{df(t,y(t))}{dt} + O(\\Delta t^3)$\n",
    " \n",
    "  \n",
    "  Remember from calculus (https://en.wikipedia.org/wiki/Total_derivative) that  \n",
    "  \n",
    "  $\\frac{df(t,y(t))}{dt} = \\frac{\\partial f(t,y(t))}{\\partial y}\\frac{dy(t)}{dt} + \\frac{\\partial f(t,y(t))}{\\partial t}\\frac{dt}{dt}=f(t,y(t))\\frac{\\partial f(t,y(t))}{\\partial y} + \\frac{\\partial f(t,y(t))}{\\partial t}$  \n",
    "  \n",
    "  So Taylor series can be expanded to:  \n",
    "  \n",
    "  $y(t+\\Delta t)=y(t) + \\Delta t  \\cdot f(t, y(t)) + \\frac{\\Delta t^2}{2}f(t,y(t))\\frac{\\partial f(t,y(t))}{\\partial y} + \\frac{\\Delta t^2}{2}\\frac{\\partial f(t,y(t))}{\\partial t} + O(\\Delta t^3)$  \n",
    "\n",
    "\n",
    "  The basic idea of Runge-Kutta method is to approximate $y(t+\\Delta t)$ using the following equation:  \n",
    "  \n",
    "  $y(t+\\Delta t)=y(t)+ \\Delta t \\cdot f(t+a \\cdot \\Delta t, y(t)+a \\cdot \\Delta t \\cdot f(t,y(t)))$  \n",
    "  \n",
    "  Now we need to find the values of $a$ so that the above equation is analogous to Taylor method with truncation error $O(\\Delta t^3)$  \n",
    "  To do this we can make a Taylor expansion of the above approximation:  \n",
    "  \n",
    "  $f(t+a \\cdot \\Delta t, y(t)+a \\cdot \\Delta t \\cdot f(t,y(t))) = f(t,y(t)) + a \\cdot \\Delta t \\frac{\\partial f(t,y(t))}{\\partial t} + a \\cdot \\Delta t \\cdot f(t,y(t))\\frac{\\partial f(t,y(t))}{\\partial y} + O(\\Delta t^2)$  \n",
    "  \n",
    "  Substituting above into the Runge-Kutta approximation we get:  \n",
    "  \n",
    "  $y(t+\\Delta t)=y(t) + \\Delta t \\cdot f(t,y(t)) + a \\cdot \\Delta t^2 \\cdot f(t,y(t))\\frac{\\partial f(t,y(t))}{\\partial y} + a \\cdot \\Delta t^2\\frac{\\partial f(t,y(t))}{\\partial t} + O(\\Delta t^3)$  \n",
    "  \n",
    "  Comparing $y(t+\\Delta t)$ with Runge-Kutta approximation and actual Taylor series we can see that $a=\\frac{1}{2}$ is the solution.\n",
    "\n"
   ]
  },
  {
   "cell_type": "markdown",
   "metadata": {},
   "source": [
    "Let's implement Runge-Kutta method."
   ]
  },
  {
   "cell_type": "code",
   "execution_count": 8,
   "metadata": {},
   "outputs": [
    {
     "data": {
      "image/png": "[encoded data removed]",
      "text/plain": [
       "<Figure size 432x288 with 1 Axes>"
      ]
     },
     "metadata": {
      "needs_background": "light"
     },
     "output_type": "display_data"
    }
   ],
   "source": [
    "Drug = [1,]\n",
    "Drug2 = [1,]\n",
    "Drug_RK = [1,]\n",
    "time = [0,]\n",
    "dt = 0.5\n",
    "k = 1\n",
    "for t in range(1, 11):\n",
    "    Drug = np.append(Drug, Drug[t - 1] - dt * k * Drug[t - 1])\n",
    "    Drug_RK = np.append(\n",
    "        Drug_RK, \n",
    "        (Drug_RK[t - 1] \n",
    "         - dt * k * (Drug_RK[t - 1]- 0.5 * dt * k * Drug_RK[t - 1]))\n",
    "    )\n",
    "    time = np.append(time, time[t - 1] + dt)\n",
    "\n",
    "plt.plot(time, Drug, color='red',label='Euler')\n",
    "plt.plot(time, Drug_RK, color='green',label='Runge-Kutta')\n",
    "plt.plot(time, np.exp(-k*time), color='black',label='Exp')\n",
    "plt.legend();"
   ]
  },
  {
   "cell_type": "markdown",
   "metadata": {},
   "source": [
    "The above Runge-Kutta method will have a per step error proportional to $\\Delta t^3$ and total error after time $t$ is proportional to $N_{Steps} \\cdot \\Delta t^3 \\sim \\Delta t^2$ because $N_{Steps} \\sim \\frac{1}{\\Delta t}$.  "
   ]
  },
  {
   "cell_type": "markdown",
   "metadata": {},
   "source": [
    "### Extension of Runge-Kutta methods to include more Taylor series terms\n",
    "\n",
    "Runge-Kutta methods can be extended to include as many Taylor terms as needed.  \n",
    "  \n",
    "  We will not implement these methods but here's a big picture overview of how to extend Runge-Kutta methods:\n",
    "\n",
    "  The basic idea of Runge-Kutta is that $f(t, y(t))$ is substituteted by $f(t+a \\cdot \\Delta t, y(t)+a \\cdot \\Delta t \\cdot f(t,y(t)))$ compared to Euler method:   \n",
    "  \n",
    "  Euler: $y(t+\\Delta t)=y(t) + \\Delta t  \\cdot f(t, y(t))$  \n",
    "  \n",
    "  Runge-Kutta: $y(t+\\Delta t)=y(t)+ \\Delta t \\cdot f(t+a \\cdot \\Delta t, y(t)+a \\cdot \\Delta t \\cdot f(t,y(t)))$  \n",
    "  \n",
    "  If you want to include more Taylor terms you can simply take the latter and again substitute $f(t, y(t))$ with $f(t+a \\cdot \\Delta t, y(t)+a \\cdot \\Delta t \\cdot f(t,y(t)))$  \n",
    "  \n",
    "  You'll get the following:  \n",
    "  \n",
    "  $f(t+a \\cdot \\Delta t, y(t)+a \\cdot \\Delta t \\cdot f(t+b \\cdot \\Delta t, y(t)+b \\cdot \\Delta t \\cdot f(t,y(t))))$  \n",
    "  \n",
    "  You can do this as many times as needed and then find values for constants a, b, ... like we did above by comparing the above equation to Taylor series expansion. Runge-Kutta methods implemented in solve_ivp() are 3rd and 5th order, which mean they include 1 and 3 extra Tayler terms compared to method we implemented above."
   ]
  },
  {
   "cell_type": "markdown",
   "metadata": {},
   "source": [
    "**Runge-Kutta methods were developed in early 1900s!**   \n",
    "\n",
    "**Many more methods have been described (and are continuing to be described) to numerically solve differential equations including higher order Runge-Kutta methods as well as completely different methods.**  \n",
    "  \n",
    "**You can take whole courses describing various numerical methods which are beyond the scope of this one lecture but the principle is similar to Euler, Taylor and Runge-Kutta methods described above.**"
   ]
  },
  {
   "cell_type": "markdown",
   "metadata": {},
   "source": [
    "# SciPy solve_ivp()"
   ]
  },
  {
   "cell_type": "markdown",
   "metadata": {},
   "source": [
    "The great thing about SciPy *solve_ivp()* is that you don't have to implement complex numerical algorithms yourself as we did above because *solve_ivp()* already has many algorithms implemented and you can just use them without fully understanding how they work but hopefully you have some idea from discussion above."
   ]
  },
  {
   "cell_type": "code",
   "execution_count": 9,
   "metadata": {
    "tags": []
   },
   "outputs": [
    {
     "data": {
      "text/plain": [
       "\u001b[0;31mSignature:\u001b[0m\n",
       "\u001b[0msolve_ivp\u001b[0m\u001b[0;34m(\u001b[0m\u001b[0;34m\u001b[0m\n",
       "\u001b[0;34m\u001b[0m    \u001b[0mfun\u001b[0m\u001b[0;34m,\u001b[0m\u001b[0;34m\u001b[0m\n",
       "\u001b[0;34m\u001b[0m    \u001b[0mt_span\u001b[0m\u001b[0;34m,\u001b[0m\u001b[0;34m\u001b[0m\n",
       "\u001b[0;34m\u001b[0m    \u001b[0my0\u001b[0m\u001b[0;34m,\u001b[0m\u001b[0;34m\u001b[0m\n",
       "\u001b[0;34m\u001b[0m    \u001b[0mmethod\u001b[0m\u001b[0;34m=\u001b[0m\u001b[0;34m'RK45'\u001b[0m\u001b[0;34m,\u001b[0m\u001b[0;34m\u001b[0m\n",
       "\u001b[0;34m\u001b[0m    \u001b[0mt_eval\u001b[0m\u001b[0;34m=\u001b[0m\u001b[0;32mNone\u001b[0m\u001b[0;34m,\u001b[0m\u001b[0;34m\u001b[0m\n",
       "\u001b[0;34m\u001b[0m    \u001b[0mdense_output\u001b[0m\u001b[0;34m=\u001b[0m\u001b[0;32mFalse\u001b[0m\u001b[0;34m,\u001b[0m\u001b[0;34m\u001b[0m\n",
       "\u001b[0;34m\u001b[0m    \u001b[0mevents\u001b[0m\u001b[0;34m=\u001b[0m\u001b[0;32mNone\u001b[0m\u001b[0;34m,\u001b[0m\u001b[0;34m\u001b[0m\n",
       "\u001b[0;34m\u001b[0m    \u001b[0mvectorized\u001b[0m\u001b[0;34m=\u001b[0m\u001b[0;32mFalse\u001b[0m\u001b[0;34m,\u001b[0m\u001b[0;34m\u001b[0m\n",
       "\u001b[0;34m\u001b[0m    \u001b[0margs\u001b[0m\u001b[0;34m=\u001b[0m\u001b[0;32mNone\u001b[0m\u001b[0;34m,\u001b[0m\u001b[0;34m\u001b[0m\n",
       "\u001b[0;34m\u001b[0m    \u001b[0;34m**\u001b[0m\u001b[0moptions\u001b[0m\u001b[0;34m,\u001b[0m\u001b[0;34m\u001b[0m\n",
       "\u001b[0;34m\u001b[0m\u001b[0;34m)\u001b[0m\u001b[0;34m\u001b[0m\u001b[0;34m\u001b[0m\u001b[0m\n",
       "\u001b[0;31mDocstring:\u001b[0m\n",
       "Solve an initial value problem for a system of ODEs.\n",
       "\n",
       "This function numerically integrates a system of ordinary differential\n",
       "equations given an initial value::\n",
       "\n",
       "    dy / dt = f(t, y)\n",
       "    y(t0) = y0\n",
       "\n",
       "Here t is a 1-D independent variable (time), y(t) is an\n",
       "N-D vector-valued function (state), and an N-D\n",
       "vector-valued function f(t, y) determines the differential equations.\n",
       "The goal is to find y(t) approximately satisfying the differential\n",
       "equations, given an initial value y(t0)=y0.\n",
       "\n",
       "Some of the solvers support integration in the complex domain, but note\n",
       "that for stiff ODE solvers, the right-hand side must be\n",
       "complex-differentiable (satisfy Cauchy-Riemann equations [11]_).\n",
       "To solve a problem in the complex domain, pass y0 with a complex data type.\n",
       "Another option always available is to rewrite your problem for real and\n",
       "imaginary parts separately.\n",
       "\n",
       "Parameters\n",
       "----------\n",
       "fun : callable\n",
       "    Right-hand side of the system. The calling signature is ``fun(t, y)``.\n",
       "    Here `t` is a scalar, and there are two options for the ndarray `y`:\n",
       "    It can either have shape (n,); then `fun` must return array_like with\n",
       "    shape (n,). Alternatively, it can have shape (n, k); then `fun`\n",
       "    must return an array_like with shape (n, k), i.e., each column\n",
       "    corresponds to a single column in `y`. The choice between the two\n",
       "    options is determined by `vectorized` argument (see below). The\n",
       "    vectorized implementation allows a faster approximation of the Jacobian\n",
       "    by finite differences (required for stiff solvers).\n",
       "t_span : 2-tuple of floats\n",
       "    Interval of integration (t0, tf). The solver starts with t=t0 and\n",
       "    integrates until it reaches t=tf.\n",
       "y0 : array_like, shape (n,)\n",
       "    Initial state. For problems in the complex domain, pass `y0` with a\n",
       "    complex data type (even if the initial value is purely real).\n",
       "method : string or `OdeSolver`, optional\n",
       "    Integration method to use:\n",
       "\n",
       "        * 'RK45' (default): Explicit Runge-Kutta method of order 5(4) [1]_.\n",
       "          The error is controlled assuming accuracy of the fourth-order\n",
       "          method, but steps are taken using the fifth-order accurate\n",
       "          formula (local extrapolation is done). A quartic interpolation\n",
       "          polynomial is used for the dense output [2]_. Can be applied in\n",
       "          the complex domain.\n",
       "        * 'RK23': Explicit Runge-Kutta method of order 3(2) [3]_. The error\n",
       "          is controlled assuming accuracy of the second-order method, but\n",
       "          steps are taken using the third-order accurate formula (local\n",
       "          extrapolation is done). A cubic Hermite polynomial is used for the\n",
       "          dense output. Can be applied in the complex domain.\n",
       "        * 'DOP853': Explicit Runge-Kutta method of order 8 [13]_.\n",
       "          Python implementation of the \"DOP853\" algorithm originally\n",
       "          written in Fortran [14]_. A 7-th order interpolation polynomial\n",
       "          accurate to 7-th order is used for the dense output.\n",
       "          Can be applied in the complex domain.\n",
       "        * 'Radau': Implicit Runge-Kutta method of the Radau IIA family of\n",
       "          order 5 [4]_. The error is controlled with a third-order accurate\n",
       "          embedded formula. A cubic polynomial which satisfies the\n",
       "          collocation conditions is used for the dense output.\n",
       "        * 'BDF': Implicit multi-step variable-order (1 to 5) method based\n",
       "          on a backward differentiation formula for the derivative\n",
       "          approximation [5]_. The implementation follows the one described\n",
       "          in [6]_. A quasi-constant step scheme is used and accuracy is\n",
       "          enhanced using the NDF modification. Can be applied in the\n",
       "          complex domain.\n",
       "        * 'LSODA': Adams/BDF method with automatic stiffness detection and\n",
       "          switching [7]_, [8]_. This is a wrapper of the Fortran solver\n",
       "          from ODEPACK.\n",
       "\n",
       "    Explicit Runge-Kutta methods ('RK23', 'RK45', 'DOP853') should be used\n",
       "    for non-stiff problems and implicit methods ('Radau', 'BDF') for\n",
       "    stiff problems [9]_. Among Runge-Kutta methods, 'DOP853' is recommended\n",
       "    for solving with high precision (low values of `rtol` and `atol`).\n",
       "\n",
       "    If not sure, first try to run 'RK45'. If it makes unusually many\n",
       "    iterations, diverges, or fails, your problem is likely to be stiff and\n",
       "    you should use 'Radau' or 'BDF'. 'LSODA' can also be a good universal\n",
       "    choice, but it might be somewhat less convenient to work with as it\n",
       "    wraps old Fortran code.\n",
       "\n",
       "    You can also pass an arbitrary class derived from `OdeSolver` which\n",
       "    implements the solver.\n",
       "t_eval : array_like or None, optional\n",
       "    Times at which to store the computed solution, must be sorted and lie\n",
       "    within `t_span`. If None (default), use points selected by the solver.\n",
       "dense_output : bool, optional\n",
       "    Whether to compute a continuous solution. Default is False.\n",
       "events : callable, or list of callables, optional\n",
       "    Events to track. If None (default), no events will be tracked.\n",
       "    Each event occurs at the zeros of a continuous function of time and\n",
       "    state. Each function must have the signature ``event(t, y)`` and return\n",
       "    a float. The solver will find an accurate value of `t` at which\n",
       "    ``event(t, y(t)) = 0`` using a root-finding algorithm. By default, all\n",
       "    zeros will be found. The solver looks for a sign change over each step,\n",
       "    so if multiple zero crossings occur within one step, events may be\n",
       "    missed. Additionally each `event` function might have the following\n",
       "    attributes:\n",
       "\n",
       "        terminal: bool, optional\n",
       "            Whether to terminate integration if this event occurs.\n",
       "            Implicitly False if not assigned.\n",
       "        direction: float, optional\n",
       "            Direction of a zero crossing. If `direction` is positive,\n",
       "            `event` will only trigger when going from negative to positive,\n",
       "            and vice versa if `direction` is negative. If 0, then either\n",
       "            direction will trigger event. Implicitly 0 if not assigned.\n",
       "\n",
       "    You can assign attributes like ``event.terminal = True`` to any\n",
       "    function in Python.\n",
       "vectorized : bool, optional\n",
       "    Whether `fun` is implemented in a vectorized fashion. Default is False.\n",
       "args : tuple, optional\n",
       "    Additional arguments to pass to the user-defined functions.  If given,\n",
       "    the additional arguments are passed to all user-defined functions.\n",
       "    So if, for example, `fun` has the signature ``fun(t, y, a, b, c)``,\n",
       "    then `jac` (if given) and any event functions must have the same\n",
       "    signature, and `args` must be a tuple of length 3.\n",
       "options\n",
       "    Options passed to a chosen solver. All options available for already\n",
       "    implemented solvers are listed below.\n",
       "first_step : float or None, optional\n",
       "    Initial step size. Default is `None` which means that the algorithm\n",
       "    should choose.\n",
       "max_step : float, optional\n",
       "    Maximum allowed step size. Default is np.inf, i.e., the step size is not\n",
       "    bounded and determined solely by the solver.\n",
       "rtol, atol : float or array_like, optional\n",
       "    Relative and absolute tolerances. The solver keeps the local error\n",
       "    estimates less than ``atol + rtol * abs(y)``. Here `rtol` controls a\n",
       "    relative accuracy (number of correct digits). But if a component of `y`\n",
       "    is approximately below `atol`, the error only needs to fall within\n",
       "    the same `atol` threshold, and the number of correct digits is not\n",
       "    guaranteed. If components of y have different scales, it might be\n",
       "    beneficial to set different `atol` values for different components by\n",
       "    passing array_like with shape (n,) for `atol`. Default values are\n",
       "    1e-3 for `rtol` and 1e-6 for `atol`.\n",
       "jac : array_like, sparse_matrix, callable or None, optional\n",
       "    Jacobian matrix of the right-hand side of the system with respect\n",
       "    to y, required by the 'Radau', 'BDF' and 'LSODA' method. The\n",
       "    Jacobian matrix has shape (n, n) and its element (i, j) is equal to\n",
       "    ``d f_i / d y_j``.  There are three ways to define the Jacobian:\n",
       "\n",
       "        * If array_like or sparse_matrix, the Jacobian is assumed to\n",
       "          be constant. Not supported by 'LSODA'.\n",
       "        * If callable, the Jacobian is assumed to depend on both\n",
       "          t and y; it will be called as ``jac(t, y)``, as necessary.\n",
       "          For 'Radau' and 'BDF' methods, the return value might be a\n",
       "          sparse matrix.\n",
       "        * If None (default), the Jacobian will be approximated by\n",
       "          finite differences.\n",
       "\n",
       "    It is generally recommended to provide the Jacobian rather than\n",
       "    relying on a finite-difference approximation.\n",
       "jac_sparsity : array_like, sparse matrix or None, optional\n",
       "    Defines a sparsity structure of the Jacobian matrix for a finite-\n",
       "    difference approximation. Its shape must be (n, n). This argument\n",
       "    is ignored if `jac` is not `None`. If the Jacobian has only few\n",
       "    non-zero elements in *each* row, providing the sparsity structure\n",
       "    will greatly speed up the computations [10]_. A zero entry means that\n",
       "    a corresponding element in the Jacobian is always zero. If None\n",
       "    (default), the Jacobian is assumed to be dense.\n",
       "    Not supported by 'LSODA', see `lband` and `uband` instead.\n",
       "lband, uband : int or None, optional\n",
       "    Parameters defining the bandwidth of the Jacobian for the 'LSODA'\n",
       "    method, i.e., ``jac[i, j] != 0 only for i - lband <= j <= i + uband``.\n",
       "    Default is None. Setting these requires your jac routine to return the\n",
       "    Jacobian in the packed format: the returned array must have ``n``\n",
       "    columns and ``uband + lband + 1`` rows in which Jacobian diagonals are\n",
       "    written. Specifically ``jac_packed[uband + i - j , j] = jac[i, j]``.\n",
       "    The same format is used in `scipy.linalg.solve_banded` (check for an\n",
       "    illustration).  These parameters can be also used with ``jac=None`` to\n",
       "    reduce the number of Jacobian elements estimated by finite differences.\n",
       "min_step : float, optional\n",
       "    The minimum allowed step size for 'LSODA' method.\n",
       "    By default `min_step` is zero.\n",
       "\n",
       "Returns\n",
       "-------\n",
       "Bunch object with the following fields defined:\n",
       "t : ndarray, shape (n_points,)\n",
       "    Time points.\n",
       "y : ndarray, shape (n, n_points)\n",
       "    Values of the solution at `t`.\n",
       "sol : `OdeSolution` or None\n",
       "    Found solution as `OdeSolution` instance; None if `dense_output` was\n",
       "    set to False.\n",
       "t_events : list of ndarray or None\n",
       "    Contains for each event type a list of arrays at which an event of\n",
       "    that type event was detected. None if `events` was None.\n",
       "y_events : list of ndarray or None\n",
       "    For each value of `t_events`, the corresponding value of the solution.\n",
       "    None if `events` was None.\n",
       "nfev : int\n",
       "    Number of evaluations of the right-hand side.\n",
       "njev : int\n",
       "    Number of evaluations of the Jacobian.\n",
       "nlu : int\n",
       "    Number of LU decompositions.\n",
       "status : int\n",
       "    Reason for algorithm termination:\n",
       "\n",
       "        * -1: Integration step failed.\n",
       "        *  0: The solver successfully reached the end of `tspan`.\n",
       "        *  1: A termination event occurred.\n",
       "\n",
       "message : string\n",
       "    Human-readable description of the termination reason.\n",
       "success : bool\n",
       "    True if the solver reached the interval end or a termination event\n",
       "    occurred (``status >= 0``).\n",
       "\n",
       "References\n",
       "----------\n",
       ".. [1] J. R. Dormand, P. J. Prince, \"A family of embedded Runge-Kutta\n",
       "       formulae\", Journal of Computational and Applied Mathematics, Vol. 6,\n",
       "       No. 1, pp. 19-26, 1980.\n",
       ".. [2] L. W. Shampine, \"Some Practical Runge-Kutta Formulas\", Mathematics\n",
       "       of Computation,, Vol. 46, No. 173, pp. 135-150, 1986.\n",
       ".. [3] P. Bogacki, L.F. Shampine, \"A 3(2) Pair of Runge-Kutta Formulas\",\n",
       "       Appl. Math. Lett. Vol. 2, No. 4. pp. 321-325, 1989.\n",
       ".. [4] E. Hairer, G. Wanner, \"Solving Ordinary Differential Equations II:\n",
       "       Stiff and Differential-Algebraic Problems\", Sec. IV.8.\n",
       ".. [5] `Backward Differentiation Formula\n",
       "        <https://en.wikipedia.org/wiki/Backward_differentiation_formula>`_\n",
       "        on Wikipedia.\n",
       ".. [6] L. F. Shampine, M. W. Reichelt, \"THE MATLAB ODE SUITE\", SIAM J. SCI.\n",
       "       COMPUTE., Vol. 18, No. 1, pp. 1-22, January 1997.\n",
       ".. [7] A. C. Hindmarsh, \"ODEPACK, A Systematized Collection of ODE\n",
       "       Solvers,\" IMACS Transactions on Scientific Computation, Vol 1.,\n",
       "       pp. 55-64, 1983.\n",
       ".. [8] L. Petzold, \"Automatic selection of methods for solving stiff and\n",
       "       nonstiff systems of ordinary differential equations\", SIAM Journal\n",
       "       on Scientific and Statistical Computing, Vol. 4, No. 1, pp. 136-148,\n",
       "       1983.\n",
       ".. [9] `Stiff equation <https://en.wikipedia.org/wiki/Stiff_equation>`_ on\n",
       "       Wikipedia.\n",
       ".. [10] A. Curtis, M. J. D. Powell, and J. Reid, \"On the estimation of\n",
       "        sparse Jacobian matrices\", Journal of the Institute of Mathematics\n",
       "        and its Applications, 13, pp. 117-120, 1974.\n",
       ".. [11] `Cauchy-Riemann equations\n",
       "         <https://en.wikipedia.org/wiki/Cauchy-Riemann_equations>`_ on\n",
       "         Wikipedia.\n",
       ".. [12] `Lotka-Volterra equations\n",
       "        <https://en.wikipedia.org/wiki/Lotka%E2%80%93Volterra_equations>`_\n",
       "        on Wikipedia.\n",
       ".. [13] E. Hairer, S. P. Norsett G. Wanner, \"Solving Ordinary Differential\n",
       "        Equations I: Nonstiff Problems\", Sec. II.\n",
       ".. [14] `Page with original Fortran code of DOP853\n",
       "        <http://www.unige.ch/~hairer/software.html>`_.\n",
       "\n",
       "Examples\n",
       "--------\n",
       "Basic exponential decay showing automatically chosen time points.\n",
       "\n",
       ">>> from scipy.integrate import solve_ivp\n",
       ">>> def exponential_decay(t, y): return -0.5 * y\n",
       ">>> sol = solve_ivp(exponential_decay, [0, 10], [2, 4, 8])\n",
       ">>> print(sol.t)\n",
       "[ 0.          0.11487653  1.26364188  3.06061781  4.81611105  6.57445806\n",
       "  8.33328988 10.        ]\n",
       ">>> print(sol.y)\n",
       "[[2.         1.88836035 1.06327177 0.43319312 0.18017253 0.07483045\n",
       "  0.03107158 0.01350781]\n",
       " [4.         3.7767207  2.12654355 0.86638624 0.36034507 0.14966091\n",
       "  0.06214316 0.02701561]\n",
       " [8.         7.5534414  4.25308709 1.73277247 0.72069014 0.29932181\n",
       "  0.12428631 0.05403123]]\n",
       "\n",
       "Specifying points where the solution is desired.\n",
       "\n",
       ">>> sol = solve_ivp(exponential_decay, [0, 10], [2, 4, 8],\n",
       "...                 t_eval=[0, 1, 2, 4, 10])\n",
       ">>> print(sol.t)\n",
       "[ 0  1  2  4 10]\n",
       ">>> print(sol.y)\n",
       "[[2.         1.21305369 0.73534021 0.27066736 0.01350938]\n",
       " [4.         2.42610739 1.47068043 0.54133472 0.02701876]\n",
       " [8.         4.85221478 2.94136085 1.08266944 0.05403753]]\n",
       "\n",
       "Cannon fired upward with terminal event upon impact. The ``terminal`` and\n",
       "``direction`` fields of an event are applied by monkey patching a function.\n",
       "Here ``y[0]`` is position and ``y[1]`` is velocity. The projectile starts\n",
       "at position 0 with velocity +10. Note that the integration never reaches\n",
       "t=100 because the event is terminal.\n",
       "\n",
       ">>> def upward_cannon(t, y): return [y[1], -0.5]\n",
       ">>> def hit_ground(t, y): return y[0]\n",
       ">>> hit_ground.terminal = True\n",
       ">>> hit_ground.direction = -1\n",
       ">>> sol = solve_ivp(upward_cannon, [0, 100], [0, 10], events=hit_ground)\n",
       ">>> print(sol.t_events)\n",
       "[array([40.])]\n",
       ">>> print(sol.t)\n",
       "[0.00000000e+00 9.99900010e-05 1.09989001e-03 1.10988901e-02\n",
       " 1.11088891e-01 1.11098890e+00 1.11099890e+01 4.00000000e+01]\n",
       "\n",
       "Use `dense_output` and `events` to find position, which is 100, at the apex\n",
       "of the cannonball's trajectory. Apex is not defined as terminal, so both\n",
       "apex and hit_ground are found. There is no information at t=20, so the sol\n",
       "attribute is used to evaluate the solution. The sol attribute is returned\n",
       "by setting ``dense_output=True``. Alternatively, the `y_events` attribute\n",
       "can be used to access the solution at the time of the event.\n",
       "\n",
       ">>> def apex(t, y): return y[1]\n",
       ">>> sol = solve_ivp(upward_cannon, [0, 100], [0, 10],\n",
       "...                 events=(hit_ground, apex), dense_output=True)\n",
       ">>> print(sol.t_events)\n",
       "[array([40.]), array([20.])]\n",
       ">>> print(sol.t)\n",
       "[0.00000000e+00 9.99900010e-05 1.09989001e-03 1.10988901e-02\n",
       " 1.11088891e-01 1.11098890e+00 1.11099890e+01 4.00000000e+01]\n",
       ">>> print(sol.sol(sol.t_events[1][0]))\n",
       "[100.   0.]\n",
       ">>> print(sol.y_events)\n",
       "[array([[-5.68434189e-14, -1.00000000e+01]]), array([[1.00000000e+02, 1.77635684e-15]])]\n",
       "\n",
       "As an example of a system with additional parameters, we'll implement\n",
       "the Lotka-Volterra equations [12]_.\n",
       "\n",
       ">>> def lotkavolterra(t, z, a, b, c, d):\n",
       "...     x, y = z\n",
       "...     return [a*x - b*x*y, -c*y + d*x*y]\n",
       "...\n",
       "\n",
       "We pass in the parameter values a=1.5, b=1, c=3 and d=1 with the `args`\n",
       "argument.\n",
       "\n",
       ">>> sol = solve_ivp(lotkavolterra, [0, 15], [10, 5], args=(1.5, 1, 3, 1),\n",
       "...                 dense_output=True)\n",
       "\n",
       "Compute a dense solution and plot it.\n",
       "\n",
       ">>> t = np.linspace(0, 15, 300)\n",
       ">>> z = sol.sol(t)\n",
       ">>> import matplotlib.pyplot as plt\n",
       ">>> plt.plot(t, z.T)\n",
       ">>> plt.xlabel('t')\n",
       ">>> plt.legend(['x', 'y'], shadow=True)\n",
       ">>> plt.title('Lotka-Volterra System')\n",
       ">>> plt.show()\n",
       "\u001b[0;31mFile:\u001b[0m      /Library/Frameworks/Python.framework/Versions/3.10/lib/python3.10/site-packages/scipy/integrate/_ivp/ivp.py\n",
       "\u001b[0;31mType:\u001b[0m      function\n"
      ]
     },
     "metadata": {},
     "output_type": "display_data"
    }
   ],
   "source": [
    "solve_ivp?"
   ]
  }
 ],
 "metadata": {
  "kernelspec": {
   "display_name": "Python 3 (ipykernel)",
   "language": "python",
   "name": "python3"
  },
  "language_info": {
   "codemirror_mode": {
    "name": "ipython",
    "version": 3
   },
   "file_extension": ".py",
   "mimetype": "text/x-python",
   "name": "python",
   "nbconvert_exporter": "python",
   "pygments_lexer": "ipython3",
   "version": "3.10.6"
  }
 },
 "nbformat": 4,
 "nbformat_minor": 4
}
